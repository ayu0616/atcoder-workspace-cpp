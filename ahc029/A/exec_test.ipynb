{
 "cells": [
  {
   "cell_type": "code",
   "execution_count": 323,
   "metadata": {},
   "outputs": [],
   "source": [
    "import os\n",
    "import glob\n",
    "import subprocess\n",
    "from concurrent.futures import ThreadPoolExecutor\n",
    "from multiprocessing import freeze_support\n",
    "import pandas as pd\n",
    "import datetime\n",
    "import matplotlib.pyplot as plt"
   ]
  },
  {
   "cell_type": "code",
   "execution_count": 324,
   "metadata": {},
   "outputs": [],
   "source": [
    "!rm -rf ./out\n",
    "!mkdir ./out"
   ]
  },
  {
   "cell_type": "code",
   "execution_count": 325,
   "metadata": {},
   "outputs": [],
   "source": [
    "cur_dir = %pwd"
   ]
  },
  {
   "cell_type": "code",
   "execution_count": 326,
   "metadata": {},
   "outputs": [],
   "source": [
    "in_files = glob.glob(os.path.join(cur_dir, 'in', '*.txt'))\n",
    "test_cases = [os.path.basename(f) for f in in_files]   "
   ]
  },
  {
   "cell_type": "code",
   "execution_count": 327,
   "metadata": {},
   "outputs": [],
   "source": [
    "df = pd.read_csv(\"test_res.csv\", index_col=0)\n",
    "d = {}"
   ]
  },
  {
   "cell_type": "code",
   "execution_count": 328,
   "metadata": {},
   "outputs": [],
   "source": [
    "def exec(in_file: str):\n",
    "    out_file = os.path.join(cur_dir, 'out', os.path.basename(in_file))\n",
    "    res = subprocess.run(f\"./main < {in_file} > {out_file}\", shell=True, stderr=subprocess.PIPE)\n",
    "    s = res.stderr.decode('utf-8').strip().split('\\n')[-1].strip()\n",
    "    test_case = os.path.basename(in_file)\n",
    "    d[test_case] = int(s)"
   ]
  },
  {
   "cell_type": "code",
   "execution_count": 329,
   "metadata": {},
   "outputs": [],
   "source": [
    "freeze_support()\n",
    "with ThreadPoolExecutor(max_workers=50) as executor:\n",
    "    executor.map(exec, in_files)\n",
    "\n",
    "cur_time = datetime.datetime.now().isoformat()\n",
    "df[cur_time] = d"
   ]
  },
  {
   "cell_type": "code",
   "execution_count": 330,
   "metadata": {},
   "outputs": [],
   "source": [
    "df = df.sort_index()"
   ]
  },
  {
   "cell_type": "code",
   "execution_count": 331,
   "metadata": {},
   "outputs": [],
   "source": [
    "df.to_csv(\"test_res.csv\")"
   ]
  },
  {
   "cell_type": "code",
   "execution_count": 332,
   "metadata": {},
   "outputs": [],
   "source": [
    "df = df.iloc[:, -5:]"
   ]
  },
  {
   "cell_type": "code",
   "execution_count": 333,
   "metadata": {},
   "outputs": [
    {
     "data": {
      "text/html": [
       "<div>\n",
       "<style scoped>\n",
       "    .dataframe tbody tr th:only-of-type {\n",
       "        vertical-align: middle;\n",
       "    }\n",
       "\n",
       "    .dataframe tbody tr th {\n",
       "        vertical-align: top;\n",
       "    }\n",
       "\n",
       "    .dataframe thead th {\n",
       "        text-align: right;\n",
       "    }\n",
       "</style>\n",
       "<table border=\"1\" class=\"dataframe\">\n",
       "  <thead>\n",
       "    <tr style=\"text-align: right;\">\n",
       "      <th></th>\n",
       "      <th>2023-12-23T13:46:11.587411</th>\n",
       "      <th>2023-12-23T13:50:00.901757</th>\n",
       "      <th>2023-12-23T17:58:30.100644</th>\n",
       "      <th>2023-12-25T16:44:56.135549</th>\n",
       "      <th>2023-12-25T17:03:55.887693</th>\n",
       "    </tr>\n",
       "  </thead>\n",
       "  <tbody>\n",
       "    <tr>\n",
       "      <th>count</th>\n",
       "      <td>1.000000e+03</td>\n",
       "      <td>1.000000e+03</td>\n",
       "      <td>1.000000e+03</td>\n",
       "      <td>1.000000e+03</td>\n",
       "      <td>1.000000e+03</td>\n",
       "    </tr>\n",
       "    <tr>\n",
       "      <th>mean</th>\n",
       "      <td>2.109494e+07</td>\n",
       "      <td>2.370969e+07</td>\n",
       "      <td>2.571228e+07</td>\n",
       "      <td>4.375213e+07</td>\n",
       "      <td>4.211156e+07</td>\n",
       "    </tr>\n",
       "    <tr>\n",
       "      <th>std</th>\n",
       "      <td>1.815398e+08</td>\n",
       "      <td>1.833638e+08</td>\n",
       "      <td>1.999032e+08</td>\n",
       "      <td>3.330979e+08</td>\n",
       "      <td>3.205214e+08</td>\n",
       "    </tr>\n",
       "    <tr>\n",
       "      <th>min</th>\n",
       "      <td>0.000000e+00</td>\n",
       "      <td>0.000000e+00</td>\n",
       "      <td>0.000000e+00</td>\n",
       "      <td>1.491000e+03</td>\n",
       "      <td>1.130000e+02</td>\n",
       "    </tr>\n",
       "    <tr>\n",
       "      <th>25%</th>\n",
       "      <td>1.317625e+04</td>\n",
       "      <td>2.771825e+04</td>\n",
       "      <td>2.726175e+04</td>\n",
       "      <td>2.624800e+04</td>\n",
       "      <td>2.999100e+04</td>\n",
       "    </tr>\n",
       "    <tr>\n",
       "      <th>50%</th>\n",
       "      <td>6.039150e+04</td>\n",
       "      <td>1.300240e+05</td>\n",
       "      <td>1.363590e+05</td>\n",
       "      <td>1.740755e+05</td>\n",
       "      <td>2.048825e+05</td>\n",
       "    </tr>\n",
       "    <tr>\n",
       "      <th>75%</th>\n",
       "      <td>4.794680e+05</td>\n",
       "      <td>9.573105e+05</td>\n",
       "      <td>1.020852e+06</td>\n",
       "      <td>1.218528e+06</td>\n",
       "      <td>1.428187e+06</td>\n",
       "    </tr>\n",
       "    <tr>\n",
       "      <th>max</th>\n",
       "      <td>3.359002e+09</td>\n",
       "      <td>3.359002e+09</td>\n",
       "      <td>3.359002e+09</td>\n",
       "      <td>5.358368e+09</td>\n",
       "      <td>5.523177e+09</td>\n",
       "    </tr>\n",
       "  </tbody>\n",
       "</table>\n",
       "</div>"
      ],
      "text/plain": [
       "       2023-12-23T13:46:11.587411  2023-12-23T13:50:00.901757  \\\n",
       "count                1.000000e+03                1.000000e+03   \n",
       "mean                 2.109494e+07                2.370969e+07   \n",
       "std                  1.815398e+08                1.833638e+08   \n",
       "min                  0.000000e+00                0.000000e+00   \n",
       "25%                  1.317625e+04                2.771825e+04   \n",
       "50%                  6.039150e+04                1.300240e+05   \n",
       "75%                  4.794680e+05                9.573105e+05   \n",
       "max                  3.359002e+09                3.359002e+09   \n",
       "\n",
       "       2023-12-23T17:58:30.100644  2023-12-25T16:44:56.135549  \\\n",
       "count                1.000000e+03                1.000000e+03   \n",
       "mean                 2.571228e+07                4.375213e+07   \n",
       "std                  1.999032e+08                3.330979e+08   \n",
       "min                  0.000000e+00                1.491000e+03   \n",
       "25%                  2.726175e+04                2.624800e+04   \n",
       "50%                  1.363590e+05                1.740755e+05   \n",
       "75%                  1.020852e+06                1.218528e+06   \n",
       "max                  3.359002e+09                5.358368e+09   \n",
       "\n",
       "       2023-12-25T17:03:55.887693  \n",
       "count                1.000000e+03  \n",
       "mean                 4.211156e+07  \n",
       "std                  3.205214e+08  \n",
       "min                  1.130000e+02  \n",
       "25%                  2.999100e+04  \n",
       "50%                  2.048825e+05  \n",
       "75%                  1.428187e+06  \n",
       "max                  5.523177e+09  "
      ]
     },
     "execution_count": 333,
     "metadata": {},
     "output_type": "execute_result"
    }
   ],
   "source": [
    "df.describe()"
   ]
  },
  {
   "cell_type": "code",
   "execution_count": 334,
   "metadata": {},
   "outputs": [
    {
     "data": {
      "text/plain": [
       "42111562.532"
      ]
     },
     "execution_count": 334,
     "metadata": {},
     "output_type": "execute_result"
    }
   ],
   "source": [
    "df.iloc[:, -1].mean()"
   ]
  },
  {
   "cell_type": "code",
   "execution_count": 335,
   "metadata": {},
   "outputs": [
    {
     "data": {
      "image/png": "[encoded data removed]",
      "text/plain": [
       "<Figure size 2000x1000 with 1 Axes>"
      ]
     },
     "metadata": {},
     "output_type": "display_data"
    }
   ],
   "source": [
    "df.plot(kind=\"box\", figsize=(20, 10))\n",
    "plt.ylim(0, df.quantile(0.85).max())\n",
    "plt.show()"
   ]
  },
  {
   "cell_type": "code",
   "execution_count": 336,
   "metadata": {},
   "outputs": [
    {
     "data": {
      "text/html": [
       "<div>\n",
       "<style scoped>\n",
       "    .dataframe tbody tr th:only-of-type {\n",
       "        vertical-align: middle;\n",
       "    }\n",
       "\n",
       "    .dataframe tbody tr th {\n",
       "        vertical-align: top;\n",
       "    }\n",
       "\n",
       "    .dataframe thead th {\n",
       "        text-align: right;\n",
       "    }\n",
       "</style>\n",
       "<table border=\"1\" class=\"dataframe\">\n",
       "  <thead>\n",
       "    <tr style=\"text-align: right;\">\n",
       "      <th></th>\n",
       "      <th>2023-12-23T13:46:11.587411</th>\n",
       "      <th>2023-12-23T13:50:00.901757</th>\n",
       "      <th>2023-12-23T17:58:30.100644</th>\n",
       "      <th>2023-12-25T16:44:56.135549</th>\n",
       "      <th>2023-12-25T17:03:55.887693</th>\n",
       "    </tr>\n",
       "  </thead>\n",
       "  <tbody>\n",
       "    <tr>\n",
       "      <th>0369.txt</th>\n",
       "      <td>3359001574</td>\n",
       "      <td>3359001574</td>\n",
       "      <td>3359001574</td>\n",
       "      <td>5358368249</td>\n",
       "      <td>5523176969</td>\n",
       "    </tr>\n",
       "    <tr>\n",
       "      <th>0684.txt</th>\n",
       "      <td>271414119</td>\n",
       "      <td>509440871</td>\n",
       "      <td>509440871</td>\n",
       "      <td>4307432005</td>\n",
       "      <td>4307432005</td>\n",
       "    </tr>\n",
       "    <tr>\n",
       "      <th>0517.txt</th>\n",
       "      <td>2090997431</td>\n",
       "      <td>2090997431</td>\n",
       "      <td>2090997431</td>\n",
       "      <td>2249984547</td>\n",
       "      <td>3775518883</td>\n",
       "    </tr>\n",
       "    <tr>\n",
       "      <th>0759.txt</th>\n",
       "      <td>2775656978</td>\n",
       "      <td>2775656978</td>\n",
       "      <td>2775656978</td>\n",
       "      <td>4883099218</td>\n",
       "      <td>3337804106</td>\n",
       "    </tr>\n",
       "    <tr>\n",
       "      <th>0935.txt</th>\n",
       "      <td>1404644707</td>\n",
       "      <td>1404644707</td>\n",
       "      <td>2337570899</td>\n",
       "      <td>3084933804</td>\n",
       "      <td>3084933803</td>\n",
       "    </tr>\n",
       "    <tr>\n",
       "      <th>...</th>\n",
       "      <td>...</td>\n",
       "      <td>...</td>\n",
       "      <td>...</td>\n",
       "      <td>...</td>\n",
       "      <td>...</td>\n",
       "    </tr>\n",
       "    <tr>\n",
       "      <th>0182.txt</th>\n",
       "      <td>1787</td>\n",
       "      <td>1787</td>\n",
       "      <td>4643</td>\n",
       "      <td>1491</td>\n",
       "      <td>1755</td>\n",
       "    </tr>\n",
       "    <tr>\n",
       "      <th>0709.txt</th>\n",
       "      <td>1173</td>\n",
       "      <td>3625</td>\n",
       "      <td>3619</td>\n",
       "      <td>1515</td>\n",
       "      <td>1523</td>\n",
       "    </tr>\n",
       "    <tr>\n",
       "      <th>0837.txt</th>\n",
       "      <td>258510</td>\n",
       "      <td>402894</td>\n",
       "      <td>402894</td>\n",
       "      <td>313434</td>\n",
       "      <td>486</td>\n",
       "    </tr>\n",
       "    <tr>\n",
       "      <th>0151.txt</th>\n",
       "      <td>363</td>\n",
       "      <td>363</td>\n",
       "      <td>84603</td>\n",
       "      <td>91663</td>\n",
       "      <td>399</td>\n",
       "    </tr>\n",
       "    <tr>\n",
       "      <th>0883.txt</th>\n",
       "      <td>1809</td>\n",
       "      <td>69649</td>\n",
       "      <td>69649</td>\n",
       "      <td>87985</td>\n",
       "      <td>113</td>\n",
       "    </tr>\n",
       "  </tbody>\n",
       "</table>\n",
       "<p>1000 rows × 5 columns</p>\n",
       "</div>"
      ],
      "text/plain": [
       "          2023-12-23T13:46:11.587411  2023-12-23T13:50:00.901757  \\\n",
       "0369.txt                  3359001574                  3359001574   \n",
       "0684.txt                   271414119                   509440871   \n",
       "0517.txt                  2090997431                  2090997431   \n",
       "0759.txt                  2775656978                  2775656978   \n",
       "0935.txt                  1404644707                  1404644707   \n",
       "...                              ...                         ...   \n",
       "0182.txt                        1787                        1787   \n",
       "0709.txt                        1173                        3625   \n",
       "0837.txt                      258510                      402894   \n",
       "0151.txt                         363                         363   \n",
       "0883.txt                        1809                       69649   \n",
       "\n",
       "          2023-12-23T17:58:30.100644  2023-12-25T16:44:56.135549  \\\n",
       "0369.txt                  3359001574                  5358368249   \n",
       "0684.txt                   509440871                  4307432005   \n",
       "0517.txt                  2090997431                  2249984547   \n",
       "0759.txt                  2775656978                  4883099218   \n",
       "0935.txt                  2337570899                  3084933804   \n",
       "...                              ...                         ...   \n",
       "0182.txt                        4643                        1491   \n",
       "0709.txt                        3619                        1515   \n",
       "0837.txt                      402894                      313434   \n",
       "0151.txt                       84603                       91663   \n",
       "0883.txt                       69649                       87985   \n",
       "\n",
       "          2023-12-25T17:03:55.887693  \n",
       "0369.txt                  5523176969  \n",
       "0684.txt                  4307432005  \n",
       "0517.txt                  3775518883  \n",
       "0759.txt                  3337804106  \n",
       "0935.txt                  3084933803  \n",
       "...                              ...  \n",
       "0182.txt                        1755  \n",
       "0709.txt                        1523  \n",
       "0837.txt                         486  \n",
       "0151.txt                         399  \n",
       "0883.txt                         113  \n",
       "\n",
       "[1000 rows x 5 columns]"
      ]
     },
     "execution_count": 336,
     "metadata": {},
     "output_type": "execute_result"
    }
   ],
   "source": [
    "df.sort_values(by=[cur_time], ascending=False)"
   ]
  },
  {
   "cell_type": "code",
   "execution_count": null,
   "metadata": {},
   "outputs": [],
   "source": []
  }
 ],
 "metadata": {
  "kernelspec": {
   "display_name": "Python 3",
   "language": "python",
   "name": "python3"
  },
  "language_info": {
   "codemirror_mode": {
    "name": "ipython",
    "version": 3
   },
   "file_extension": ".py",
   "mimetype": "text/x-python",
   "name": "python",
   "nbconvert_exporter": "python",
   "pygments_lexer": "ipython3",
   "version": "3.10.13"
  }
 },
 "nbformat": 4,
 "nbformat_minor": 2
}
