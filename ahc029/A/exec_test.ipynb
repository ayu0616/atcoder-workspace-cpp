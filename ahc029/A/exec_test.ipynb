{
 "cells": [
  {
   "cell_type": "code",
   "execution_count": 239,
   "metadata": {},
   "outputs": [],
   "source": [
    "import os\n",
    "import glob\n",
    "import subprocess\n",
    "from concurrent.futures import ThreadPoolExecutor\n",
    "from multiprocessing import freeze_support\n",
    "import pandas as pd\n",
    "import datetime\n",
    "import matplotlib.pyplot as plt"
   ]
  },
  {
   "cell_type": "code",
   "execution_count": 240,
   "metadata": {},
   "outputs": [],
   "source": [
    "!rm -rf ./out\n",
    "!mkdir ./out"
   ]
  },
  {
   "cell_type": "code",
   "execution_count": 241,
   "metadata": {},
   "outputs": [],
   "source": [
    "cur_dir = %pwd"
   ]
  },
  {
   "cell_type": "code",
   "execution_count": 242,
   "metadata": {},
   "outputs": [],
   "source": [
    "in_files = glob.glob(os.path.join(cur_dir, 'in', '*.txt'))\n",
    "test_cases = [os.path.basename(f) for f in in_files]   "
   ]
  },
  {
   "cell_type": "code",
   "execution_count": 243,
   "metadata": {},
   "outputs": [],
   "source": [
    "df = pd.read_csv(\"test_res.csv\", index_col=0)\n",
    "d = {}"
   ]
  },
  {
   "cell_type": "code",
   "execution_count": 244,
   "metadata": {},
   "outputs": [],
   "source": [
    "def exec(in_file: str):\n",
    "    out_file = os.path.join(cur_dir, 'out', os.path.basename(in_file))\n",
    "    res = subprocess.run(f\"./main < {in_file} > {out_file}\", shell=True, stderr=subprocess.PIPE)\n",
    "    s = res.stderr.decode('utf-8').strip().split('\\n')[-1].strip()\n",
    "    test_case = os.path.basename(in_file)\n",
    "    d[test_case] = int(s)"
   ]
  },
  {
   "cell_type": "code",
   "execution_count": 245,
   "metadata": {},
   "outputs": [],
   "source": [
    "freeze_support()\n",
    "with ThreadPoolExecutor(max_workers=50) as executor:\n",
    "    executor.map(exec, in_files)\n",
    "\n",
    "cur_time = datetime.datetime.now().isoformat()\n",
    "df[cur_time] = d"
   ]
  },
  {
   "cell_type": "code",
   "execution_count": 246,
   "metadata": {},
   "outputs": [],
   "source": [
    "df = df.sort_index()"
   ]
  },
  {
   "cell_type": "code",
   "execution_count": 247,
   "metadata": {},
   "outputs": [],
   "source": [
    "df.to_csv(\"test_res.csv\")"
   ]
  },
  {
   "cell_type": "code",
   "execution_count": 248,
   "metadata": {},
   "outputs": [],
   "source": [
    "df = df.iloc[:, -5:]"
   ]
  },
  {
   "cell_type": "code",
   "execution_count": 249,
   "metadata": {},
   "outputs": [
    {
     "data": {
      "text/html": [
       "<div>\n",
       "<style scoped>\n",
       "    .dataframe tbody tr th:only-of-type {\n",
       "        vertical-align: middle;\n",
       "    }\n",
       "\n",
       "    .dataframe tbody tr th {\n",
       "        vertical-align: top;\n",
       "    }\n",
       "\n",
       "    .dataframe thead th {\n",
       "        text-align: right;\n",
       "    }\n",
       "</style>\n",
       "<table border=\"1\" class=\"dataframe\">\n",
       "  <thead>\n",
       "    <tr style=\"text-align: right;\">\n",
       "      <th></th>\n",
       "      <th>2023-12-23T11:13:22.721985</th>\n",
       "      <th>2023-12-23T13:46:11.587411</th>\n",
       "      <th>2023-12-23T13:50:00.901757</th>\n",
       "      <th>2023-12-23T17:58:30.100644</th>\n",
       "      <th>2023-12-25T16:44:56.135549</th>\n",
       "    </tr>\n",
       "  </thead>\n",
       "  <tbody>\n",
       "    <tr>\n",
       "      <th>count</th>\n",
       "      <td>1.000000e+03</td>\n",
       "      <td>1.000000e+03</td>\n",
       "      <td>1.000000e+03</td>\n",
       "      <td>1.000000e+03</td>\n",
       "      <td>1.000000e+03</td>\n",
       "    </tr>\n",
       "    <tr>\n",
       "      <th>mean</th>\n",
       "      <td>5.999009e+05</td>\n",
       "      <td>2.109494e+07</td>\n",
       "      <td>2.370969e+07</td>\n",
       "      <td>2.571228e+07</td>\n",
       "      <td>4.375213e+07</td>\n",
       "    </tr>\n",
       "    <tr>\n",
       "      <th>std</th>\n",
       "      <td>3.329987e+06</td>\n",
       "      <td>1.815398e+08</td>\n",
       "      <td>1.833638e+08</td>\n",
       "      <td>1.999032e+08</td>\n",
       "      <td>3.330979e+08</td>\n",
       "    </tr>\n",
       "    <tr>\n",
       "      <th>min</th>\n",
       "      <td>1.787000e+03</td>\n",
       "      <td>0.000000e+00</td>\n",
       "      <td>0.000000e+00</td>\n",
       "      <td>0.000000e+00</td>\n",
       "      <td>1.491000e+03</td>\n",
       "    </tr>\n",
       "    <tr>\n",
       "      <th>25%</th>\n",
       "      <td>1.627975e+04</td>\n",
       "      <td>1.317625e+04</td>\n",
       "      <td>2.771825e+04</td>\n",
       "      <td>2.726175e+04</td>\n",
       "      <td>2.624800e+04</td>\n",
       "    </tr>\n",
       "    <tr>\n",
       "      <th>50%</th>\n",
       "      <td>4.829400e+04</td>\n",
       "      <td>6.039150e+04</td>\n",
       "      <td>1.300240e+05</td>\n",
       "      <td>1.363590e+05</td>\n",
       "      <td>1.740755e+05</td>\n",
       "    </tr>\n",
       "    <tr>\n",
       "      <th>75%</th>\n",
       "      <td>1.844292e+05</td>\n",
       "      <td>4.794680e+05</td>\n",
       "      <td>9.573105e+05</td>\n",
       "      <td>1.020852e+06</td>\n",
       "      <td>1.218528e+06</td>\n",
       "    </tr>\n",
       "    <tr>\n",
       "      <th>max</th>\n",
       "      <td>6.469908e+07</td>\n",
       "      <td>3.359002e+09</td>\n",
       "      <td>3.359002e+09</td>\n",
       "      <td>3.359002e+09</td>\n",
       "      <td>5.358368e+09</td>\n",
       "    </tr>\n",
       "  </tbody>\n",
       "</table>\n",
       "</div>"
      ],
      "text/plain": [
       "       2023-12-23T11:13:22.721985  2023-12-23T13:46:11.587411  \\\n",
       "count                1.000000e+03                1.000000e+03   \n",
       "mean                 5.999009e+05                2.109494e+07   \n",
       "std                  3.329987e+06                1.815398e+08   \n",
       "min                  1.787000e+03                0.000000e+00   \n",
       "25%                  1.627975e+04                1.317625e+04   \n",
       "50%                  4.829400e+04                6.039150e+04   \n",
       "75%                  1.844292e+05                4.794680e+05   \n",
       "max                  6.469908e+07                3.359002e+09   \n",
       "\n",
       "       2023-12-23T13:50:00.901757  2023-12-23T17:58:30.100644  \\\n",
       "count                1.000000e+03                1.000000e+03   \n",
       "mean                 2.370969e+07                2.571228e+07   \n",
       "std                  1.833638e+08                1.999032e+08   \n",
       "min                  0.000000e+00                0.000000e+00   \n",
       "25%                  2.771825e+04                2.726175e+04   \n",
       "50%                  1.300240e+05                1.363590e+05   \n",
       "75%                  9.573105e+05                1.020852e+06   \n",
       "max                  3.359002e+09                3.359002e+09   \n",
       "\n",
       "       2023-12-25T16:44:56.135549  \n",
       "count                1.000000e+03  \n",
       "mean                 4.375213e+07  \n",
       "std                  3.330979e+08  \n",
       "min                  1.491000e+03  \n",
       "25%                  2.624800e+04  \n",
       "50%                  1.740755e+05  \n",
       "75%                  1.218528e+06  \n",
       "max                  5.358368e+09  "
      ]
     },
     "execution_count": 249,
     "metadata": {},
     "output_type": "execute_result"
    }
   ],
   "source": [
    "df.describe()"
   ]
  },
  {
   "cell_type": "code",
   "execution_count": 250,
   "metadata": {},
   "outputs": [
    {
     "data": {
      "text/plain": [
       "43752128.666"
      ]
     },
     "execution_count": 250,
     "metadata": {},
     "output_type": "execute_result"
    }
   ],
   "source": [
    "df.iloc[:, -1].mean()"
   ]
  },
  {
   "cell_type": "code",
   "execution_count": 251,
   "metadata": {},
   "outputs": [
    {
     "data": {
      "image/png": "[encoded data removed]",
      "text/plain": [
       "<Figure size 2000x1000 with 1 Axes>"
      ]
     },
     "metadata": {},
     "output_type": "display_data"
    }
   ],
   "source": [
    "df.plot(kind=\"box\", figsize=(20, 10))\n",
    "plt.ylim(0, df.quantile(0.85).max())\n",
    "plt.show()"
   ]
  },
  {
   "cell_type": "code",
   "execution_count": 252,
   "metadata": {},
   "outputs": [
    {
     "data": {
      "text/html": [
       "<div>\n",
       "<style scoped>\n",
       "    .dataframe tbody tr th:only-of-type {\n",
       "        vertical-align: middle;\n",
       "    }\n",
       "\n",
       "    .dataframe tbody tr th {\n",
       "        vertical-align: top;\n",
       "    }\n",
       "\n",
       "    .dataframe thead th {\n",
       "        text-align: right;\n",
       "    }\n",
       "</style>\n",
       "<table border=\"1\" class=\"dataframe\">\n",
       "  <thead>\n",
       "    <tr style=\"text-align: right;\">\n",
       "      <th></th>\n",
       "      <th>2023-12-23T11:13:22.721985</th>\n",
       "      <th>2023-12-23T13:46:11.587411</th>\n",
       "      <th>2023-12-23T13:50:00.901757</th>\n",
       "      <th>2023-12-23T17:58:30.100644</th>\n",
       "      <th>2023-12-25T16:44:56.135549</th>\n",
       "    </tr>\n",
       "  </thead>\n",
       "  <tbody>\n",
       "    <tr>\n",
       "      <th>0369.txt</th>\n",
       "      <td>44149734</td>\n",
       "      <td>3359001574</td>\n",
       "      <td>3359001574</td>\n",
       "      <td>3359001574</td>\n",
       "      <td>5358368249</td>\n",
       "    </tr>\n",
       "    <tr>\n",
       "      <th>0759.txt</th>\n",
       "      <td>5335570</td>\n",
       "      <td>2775656978</td>\n",
       "      <td>2775656978</td>\n",
       "      <td>2775656978</td>\n",
       "      <td>4883099218</td>\n",
       "    </tr>\n",
       "    <tr>\n",
       "      <th>0684.txt</th>\n",
       "      <td>9273191</td>\n",
       "      <td>271414119</td>\n",
       "      <td>509440871</td>\n",
       "      <td>509440871</td>\n",
       "      <td>4307432005</td>\n",
       "    </tr>\n",
       "    <tr>\n",
       "      <th>0935.txt</th>\n",
       "      <td>5318499</td>\n",
       "      <td>1404644707</td>\n",
       "      <td>1404644707</td>\n",
       "      <td>2337570899</td>\n",
       "      <td>3084933804</td>\n",
       "    </tr>\n",
       "    <tr>\n",
       "      <th>0228.txt</th>\n",
       "      <td>640527</td>\n",
       "      <td>168475279</td>\n",
       "      <td>168475279</td>\n",
       "      <td>168475279</td>\n",
       "      <td>2777881023</td>\n",
       "    </tr>\n",
       "    <tr>\n",
       "      <th>...</th>\n",
       "      <td>...</td>\n",
       "      <td>...</td>\n",
       "      <td>...</td>\n",
       "      <td>...</td>\n",
       "      <td>...</td>\n",
       "    </tr>\n",
       "    <tr>\n",
       "      <th>0419.txt</th>\n",
       "      <td>2717</td>\n",
       "      <td>2139</td>\n",
       "      <td>2967</td>\n",
       "      <td>7167</td>\n",
       "      <td>2545</td>\n",
       "    </tr>\n",
       "    <tr>\n",
       "      <th>0141.txt</th>\n",
       "      <td>2263</td>\n",
       "      <td>2263</td>\n",
       "      <td>2263</td>\n",
       "      <td>2032</td>\n",
       "      <td>2010</td>\n",
       "    </tr>\n",
       "    <tr>\n",
       "      <th>0317.txt</th>\n",
       "      <td>3064</td>\n",
       "      <td>5066</td>\n",
       "      <td>4506</td>\n",
       "      <td>4506</td>\n",
       "      <td>1976</td>\n",
       "    </tr>\n",
       "    <tr>\n",
       "      <th>0709.txt</th>\n",
       "      <td>2135</td>\n",
       "      <td>1173</td>\n",
       "      <td>3625</td>\n",
       "      <td>3619</td>\n",
       "      <td>1515</td>\n",
       "    </tr>\n",
       "    <tr>\n",
       "      <th>0182.txt</th>\n",
       "      <td>1787</td>\n",
       "      <td>1787</td>\n",
       "      <td>1787</td>\n",
       "      <td>4643</td>\n",
       "      <td>1491</td>\n",
       "    </tr>\n",
       "  </tbody>\n",
       "</table>\n",
       "<p>1000 rows × 5 columns</p>\n",
       "</div>"
      ],
      "text/plain": [
       "          2023-12-23T11:13:22.721985  2023-12-23T13:46:11.587411  \\\n",
       "0369.txt                    44149734                  3359001574   \n",
       "0759.txt                     5335570                  2775656978   \n",
       "0684.txt                     9273191                   271414119   \n",
       "0935.txt                     5318499                  1404644707   \n",
       "0228.txt                      640527                   168475279   \n",
       "...                              ...                         ...   \n",
       "0419.txt                        2717                        2139   \n",
       "0141.txt                        2263                        2263   \n",
       "0317.txt                        3064                        5066   \n",
       "0709.txt                        2135                        1173   \n",
       "0182.txt                        1787                        1787   \n",
       "\n",
       "          2023-12-23T13:50:00.901757  2023-12-23T17:58:30.100644  \\\n",
       "0369.txt                  3359001574                  3359001574   \n",
       "0759.txt                  2775656978                  2775656978   \n",
       "0684.txt                   509440871                   509440871   \n",
       "0935.txt                  1404644707                  2337570899   \n",
       "0228.txt                   168475279                   168475279   \n",
       "...                              ...                         ...   \n",
       "0419.txt                        2967                        7167   \n",
       "0141.txt                        2263                        2032   \n",
       "0317.txt                        4506                        4506   \n",
       "0709.txt                        3625                        3619   \n",
       "0182.txt                        1787                        4643   \n",
       "\n",
       "          2023-12-25T16:44:56.135549  \n",
       "0369.txt                  5358368249  \n",
       "0759.txt                  4883099218  \n",
       "0684.txt                  4307432005  \n",
       "0935.txt                  3084933804  \n",
       "0228.txt                  2777881023  \n",
       "...                              ...  \n",
       "0419.txt                        2545  \n",
       "0141.txt                        2010  \n",
       "0317.txt                        1976  \n",
       "0709.txt                        1515  \n",
       "0182.txt                        1491  \n",
       "\n",
       "[1000 rows x 5 columns]"
      ]
     },
     "execution_count": 252,
     "metadata": {},
     "output_type": "execute_result"
    }
   ],
   "source": [
    "df.sort_values(by=[cur_time], ascending=False)"
   ]
  },
  {
   "cell_type": "code",
   "execution_count": null,
   "metadata": {},
   "outputs": [],
   "source": []
  }
 ],
 "metadata": {
  "kernelspec": {
   "display_name": "Python 3",
   "language": "python",
   "name": "python3"
  },
  "language_info": {
   "codemirror_mode": {
    "name": "ipython",
    "version": 3
   },
   "file_extension": ".py",
   "mimetype": "text/x-python",
   "name": "python",
   "nbconvert_exporter": "python",
   "pygments_lexer": "ipython3",
   "version": "3.10.13"
  }
 },
 "nbformat": 4,
 "nbformat_minor": 2
}
