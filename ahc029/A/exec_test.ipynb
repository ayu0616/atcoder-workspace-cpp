{
 "cells": [
  {
   "cell_type": "code",
   "execution_count": 57,
   "metadata": {},
   "outputs": [],
   "source": [
    "import os\n",
    "import glob\n",
    "import subprocess\n",
    "from concurrent.futures import ThreadPoolExecutor\n",
    "from multiprocessing import freeze_support\n",
    "import pandas as pd\n",
    "import datetime\n",
    "import matplotlib.pyplot as plt"
   ]
  },
  {
   "cell_type": "code",
   "execution_count": 58,
   "metadata": {},
   "outputs": [],
   "source": [
    "!rm -rf ./out\n",
    "!mkdir ./out"
   ]
  },
  {
   "cell_type": "code",
   "execution_count": 59,
   "metadata": {},
   "outputs": [],
   "source": [
    "cur_dir = %pwd"
   ]
  },
  {
   "cell_type": "code",
   "execution_count": 60,
   "metadata": {},
   "outputs": [],
   "source": [
    "in_files = glob.glob(os.path.join(cur_dir, 'in', '*.txt'))\n",
    "test_cases = [os.path.basename(f) for f in in_files]   "
   ]
  },
  {
   "cell_type": "code",
   "execution_count": 61,
   "metadata": {},
   "outputs": [],
   "source": [
    "df = pd.read_csv(\"test_res.csv\", index_col=0)\n",
    "d = {}"
   ]
  },
  {
   "cell_type": "code",
   "execution_count": 62,
   "metadata": {},
   "outputs": [],
   "source": [
    "def exec(in_file: str):\n",
    "    out_file = os.path.join(cur_dir, 'out', os.path.basename(in_file))\n",
    "    res = subprocess.run(f\"./main < {in_file} > {out_file}\", shell=True, stderr=subprocess.PIPE)\n",
    "    s = res.stderr.decode('utf-8').strip().split('\\n')[-1].strip()\n",
    "    test_case = os.path.basename(in_file)\n",
    "    d[test_case] = int(s)"
   ]
  },
  {
   "cell_type": "code",
   "execution_count": 63,
   "metadata": {},
   "outputs": [],
   "source": [
    "freeze_support()\n",
    "with ThreadPoolExecutor(max_workers=50) as executor:\n",
    "    executor.map(exec, in_files)\n",
    "\n",
    "cur_time = datetime.datetime.now().isoformat()\n",
    "df[cur_time] = d"
   ]
  },
  {
   "cell_type": "code",
   "execution_count": 64,
   "metadata": {},
   "outputs": [],
   "source": [
    "df = df.sort_index()"
   ]
  },
  {
   "cell_type": "code",
   "execution_count": 65,
   "metadata": {},
   "outputs": [],
   "source": [
    "df.to_csv(\"test_res.csv\")"
   ]
  },
  {
   "cell_type": "code",
   "execution_count": 66,
   "metadata": {},
   "outputs": [],
   "source": [
    "df = df.iloc[:, -5:]"
   ]
  },
  {
   "cell_type": "code",
   "execution_count": 67,
   "metadata": {},
   "outputs": [
    {
     "data": {
      "text/html": [
       "<div>\n",
       "<style scoped>\n",
       "    .dataframe tbody tr th:only-of-type {\n",
       "        vertical-align: middle;\n",
       "    }\n",
       "\n",
       "    .dataframe tbody tr th {\n",
       "        vertical-align: top;\n",
       "    }\n",
       "\n",
       "    .dataframe thead th {\n",
       "        text-align: right;\n",
       "    }\n",
       "</style>\n",
       "<table border=\"1\" class=\"dataframe\">\n",
       "  <thead>\n",
       "    <tr style=\"text-align: right;\">\n",
       "      <th></th>\n",
       "      <th>2023-12-23T11:13:22.721985</th>\n",
       "      <th>2023-12-23T13:46:11.587411</th>\n",
       "      <th>2023-12-23T13:50:00.901757</th>\n",
       "      <th>2023-12-23T17:58:30.100644</th>\n",
       "      <th>2023-12-25T16:27:05.252317</th>\n",
       "    </tr>\n",
       "  </thead>\n",
       "  <tbody>\n",
       "    <tr>\n",
       "      <th>count</th>\n",
       "      <td>1.000000e+03</td>\n",
       "      <td>1.000000e+03</td>\n",
       "      <td>1.000000e+03</td>\n",
       "      <td>1.000000e+03</td>\n",
       "      <td>1.000000e+03</td>\n",
       "    </tr>\n",
       "    <tr>\n",
       "      <th>mean</th>\n",
       "      <td>5.999009e+05</td>\n",
       "      <td>2.109494e+07</td>\n",
       "      <td>2.370969e+07</td>\n",
       "      <td>2.571228e+07</td>\n",
       "      <td>2.590899e+07</td>\n",
       "    </tr>\n",
       "    <tr>\n",
       "      <th>std</th>\n",
       "      <td>3.329987e+06</td>\n",
       "      <td>1.815398e+08</td>\n",
       "      <td>1.833638e+08</td>\n",
       "      <td>1.999032e+08</td>\n",
       "      <td>2.030009e+08</td>\n",
       "    </tr>\n",
       "    <tr>\n",
       "      <th>min</th>\n",
       "      <td>1.787000e+03</td>\n",
       "      <td>0.000000e+00</td>\n",
       "      <td>0.000000e+00</td>\n",
       "      <td>0.000000e+00</td>\n",
       "      <td>4.000000e+01</td>\n",
       "    </tr>\n",
       "    <tr>\n",
       "      <th>25%</th>\n",
       "      <td>1.627975e+04</td>\n",
       "      <td>1.317625e+04</td>\n",
       "      <td>2.771825e+04</td>\n",
       "      <td>2.726175e+04</td>\n",
       "      <td>2.655800e+04</td>\n",
       "    </tr>\n",
       "    <tr>\n",
       "      <th>50%</th>\n",
       "      <td>4.829400e+04</td>\n",
       "      <td>6.039150e+04</td>\n",
       "      <td>1.300240e+05</td>\n",
       "      <td>1.363590e+05</td>\n",
       "      <td>1.430080e+05</td>\n",
       "    </tr>\n",
       "    <tr>\n",
       "      <th>75%</th>\n",
       "      <td>1.844292e+05</td>\n",
       "      <td>4.794680e+05</td>\n",
       "      <td>9.573105e+05</td>\n",
       "      <td>1.020852e+06</td>\n",
       "      <td>9.625730e+05</td>\n",
       "    </tr>\n",
       "    <tr>\n",
       "      <th>max</th>\n",
       "      <td>6.469908e+07</td>\n",
       "      <td>3.359002e+09</td>\n",
       "      <td>3.359002e+09</td>\n",
       "      <td>3.359002e+09</td>\n",
       "      <td>3.359002e+09</td>\n",
       "    </tr>\n",
       "  </tbody>\n",
       "</table>\n",
       "</div>"
      ],
      "text/plain": [
       "       2023-12-23T11:13:22.721985  2023-12-23T13:46:11.587411  \\\n",
       "count                1.000000e+03                1.000000e+03   \n",
       "mean                 5.999009e+05                2.109494e+07   \n",
       "std                  3.329987e+06                1.815398e+08   \n",
       "min                  1.787000e+03                0.000000e+00   \n",
       "25%                  1.627975e+04                1.317625e+04   \n",
       "50%                  4.829400e+04                6.039150e+04   \n",
       "75%                  1.844292e+05                4.794680e+05   \n",
       "max                  6.469908e+07                3.359002e+09   \n",
       "\n",
       "       2023-12-23T13:50:00.901757  2023-12-23T17:58:30.100644  \\\n",
       "count                1.000000e+03                1.000000e+03   \n",
       "mean                 2.370969e+07                2.571228e+07   \n",
       "std                  1.833638e+08                1.999032e+08   \n",
       "min                  0.000000e+00                0.000000e+00   \n",
       "25%                  2.771825e+04                2.726175e+04   \n",
       "50%                  1.300240e+05                1.363590e+05   \n",
       "75%                  9.573105e+05                1.020852e+06   \n",
       "max                  3.359002e+09                3.359002e+09   \n",
       "\n",
       "       2023-12-25T16:27:05.252317  \n",
       "count                1.000000e+03  \n",
       "mean                 2.590899e+07  \n",
       "std                  2.030009e+08  \n",
       "min                  4.000000e+01  \n",
       "25%                  2.655800e+04  \n",
       "50%                  1.430080e+05  \n",
       "75%                  9.625730e+05  \n",
       "max                  3.359002e+09  "
      ]
     },
     "execution_count": 67,
     "metadata": {},
     "output_type": "execute_result"
    }
   ],
   "source": [
    "df.describe()"
   ]
  },
  {
   "cell_type": "code",
   "execution_count": 68,
   "metadata": {},
   "outputs": [
    {
     "data": {
      "text/plain": [
       "25908990.961"
      ]
     },
     "execution_count": 68,
     "metadata": {},
     "output_type": "execute_result"
    }
   ],
   "source": [
    "df.iloc[:, -1].mean()"
   ]
  },
  {
   "cell_type": "code",
   "execution_count": 69,
   "metadata": {},
   "outputs": [
    {
     "data": {
      "image/png": "[encoded data removed]",
      "text/plain": [
       "<Figure size 2000x1000 with 1 Axes>"
      ]
     },
     "metadata": {},
     "output_type": "display_data"
    }
   ],
   "source": [
    "df.plot(kind=\"box\", figsize=(20, 10))\n",
    "plt.ylim(0, df.quantile(0.85).max())\n",
    "plt.show()"
   ]
  },
  {
   "cell_type": "code",
   "execution_count": 70,
   "metadata": {},
   "outputs": [
    {
     "data": {
      "text/html": [
       "<div>\n",
       "<style scoped>\n",
       "    .dataframe tbody tr th:only-of-type {\n",
       "        vertical-align: middle;\n",
       "    }\n",
       "\n",
       "    .dataframe tbody tr th {\n",
       "        vertical-align: top;\n",
       "    }\n",
       "\n",
       "    .dataframe thead th {\n",
       "        text-align: right;\n",
       "    }\n",
       "</style>\n",
       "<table border=\"1\" class=\"dataframe\">\n",
       "  <thead>\n",
       "    <tr style=\"text-align: right;\">\n",
       "      <th></th>\n",
       "      <th>2023-12-23T11:13:22.721985</th>\n",
       "      <th>2023-12-23T13:46:11.587411</th>\n",
       "      <th>2023-12-23T13:50:00.901757</th>\n",
       "      <th>2023-12-23T17:58:30.100644</th>\n",
       "      <th>2023-12-25T16:27:05.252317</th>\n",
       "    </tr>\n",
       "  </thead>\n",
       "  <tbody>\n",
       "    <tr>\n",
       "      <th>0369.txt</th>\n",
       "      <td>44149734</td>\n",
       "      <td>3359001574</td>\n",
       "      <td>3359001574</td>\n",
       "      <td>3359001574</td>\n",
       "      <td>3359001574</td>\n",
       "    </tr>\n",
       "    <tr>\n",
       "      <th>0759.txt</th>\n",
       "      <td>5335570</td>\n",
       "      <td>2775656978</td>\n",
       "      <td>2775656978</td>\n",
       "      <td>2775656978</td>\n",
       "      <td>2775656978</td>\n",
       "    </tr>\n",
       "    <tr>\n",
       "      <th>0935.txt</th>\n",
       "      <td>5318499</td>\n",
       "      <td>1404644707</td>\n",
       "      <td>1404644707</td>\n",
       "      <td>2337570899</td>\n",
       "      <td>2337570899</td>\n",
       "    </tr>\n",
       "    <tr>\n",
       "      <th>0517.txt</th>\n",
       "      <td>37213879</td>\n",
       "      <td>2090997431</td>\n",
       "      <td>2090997431</td>\n",
       "      <td>2090997431</td>\n",
       "      <td>2090997431</td>\n",
       "    </tr>\n",
       "    <tr>\n",
       "      <th>0958.txt</th>\n",
       "      <td>15107822</td>\n",
       "      <td>1202065134</td>\n",
       "      <td>1202065134</td>\n",
       "      <td>1824224521</td>\n",
       "      <td>1824224521</td>\n",
       "    </tr>\n",
       "    <tr>\n",
       "      <th>...</th>\n",
       "      <td>...</td>\n",
       "      <td>...</td>\n",
       "      <td>...</td>\n",
       "      <td>...</td>\n",
       "      <td>...</td>\n",
       "    </tr>\n",
       "    <tr>\n",
       "      <th>0506.txt</th>\n",
       "      <td>363566</td>\n",
       "      <td>1287086</td>\n",
       "      <td>1317806</td>\n",
       "      <td>1317806</td>\n",
       "      <td>990</td>\n",
       "    </tr>\n",
       "    <tr>\n",
       "      <th>0342.txt</th>\n",
       "      <td>68879</td>\n",
       "      <td>75503</td>\n",
       "      <td>75503</td>\n",
       "      <td>84630</td>\n",
       "      <td>848</td>\n",
       "    </tr>\n",
       "    <tr>\n",
       "      <th>0861.txt</th>\n",
       "      <td>67742</td>\n",
       "      <td>102398</td>\n",
       "      <td>102398</td>\n",
       "      <td>540484</td>\n",
       "      <td>276</td>\n",
       "    </tr>\n",
       "    <tr>\n",
       "      <th>0633.txt</th>\n",
       "      <td>257932</td>\n",
       "      <td>268</td>\n",
       "      <td>268</td>\n",
       "      <td>268</td>\n",
       "      <td>268</td>\n",
       "    </tr>\n",
       "    <tr>\n",
       "      <th>0177.txt</th>\n",
       "      <td>85847</td>\n",
       "      <td>214615</td>\n",
       "      <td>300119</td>\n",
       "      <td>165395</td>\n",
       "      <td>40</td>\n",
       "    </tr>\n",
       "  </tbody>\n",
       "</table>\n",
       "<p>1000 rows × 5 columns</p>\n",
       "</div>"
      ],
      "text/plain": [
       "          2023-12-23T11:13:22.721985  2023-12-23T13:46:11.587411  \\\n",
       "0369.txt                    44149734                  3359001574   \n",
       "0759.txt                     5335570                  2775656978   \n",
       "0935.txt                     5318499                  1404644707   \n",
       "0517.txt                    37213879                  2090997431   \n",
       "0958.txt                    15107822                  1202065134   \n",
       "...                              ...                         ...   \n",
       "0506.txt                      363566                     1287086   \n",
       "0342.txt                       68879                       75503   \n",
       "0861.txt                       67742                      102398   \n",
       "0633.txt                      257932                         268   \n",
       "0177.txt                       85847                      214615   \n",
       "\n",
       "          2023-12-23T13:50:00.901757  2023-12-23T17:58:30.100644  \\\n",
       "0369.txt                  3359001574                  3359001574   \n",
       "0759.txt                  2775656978                  2775656978   \n",
       "0935.txt                  1404644707                  2337570899   \n",
       "0517.txt                  2090997431                  2090997431   \n",
       "0958.txt                  1202065134                  1824224521   \n",
       "...                              ...                         ...   \n",
       "0506.txt                     1317806                     1317806   \n",
       "0342.txt                       75503                       84630   \n",
       "0861.txt                      102398                      540484   \n",
       "0633.txt                         268                         268   \n",
       "0177.txt                      300119                      165395   \n",
       "\n",
       "          2023-12-25T16:27:05.252317  \n",
       "0369.txt                  3359001574  \n",
       "0759.txt                  2775656978  \n",
       "0935.txt                  2337570899  \n",
       "0517.txt                  2090997431  \n",
       "0958.txt                  1824224521  \n",
       "...                              ...  \n",
       "0506.txt                         990  \n",
       "0342.txt                         848  \n",
       "0861.txt                         276  \n",
       "0633.txt                         268  \n",
       "0177.txt                          40  \n",
       "\n",
       "[1000 rows x 5 columns]"
      ]
     },
     "execution_count": 70,
     "metadata": {},
     "output_type": "execute_result"
    }
   ],
   "source": [
    "df.sort_values(by=[cur_time], ascending=False)"
   ]
  },
  {
   "cell_type": "code",
   "execution_count": null,
   "metadata": {},
   "outputs": [],
   "source": []
  }
 ],
 "metadata": {
  "kernelspec": {
   "display_name": "Python 3",
   "language": "python",
   "name": "python3"
  },
  "language_info": {
   "codemirror_mode": {
    "name": "ipython",
    "version": 3
   },
   "file_extension": ".py",
   "mimetype": "text/x-python",
   "name": "python",
   "nbconvert_exporter": "python",
   "pygments_lexer": "ipython3",
   "version": "3.10.13"
  }
 },
 "nbformat": 4,
 "nbformat_minor": 2
}
