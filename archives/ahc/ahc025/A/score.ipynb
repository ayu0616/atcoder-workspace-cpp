{
 "cells": [
  {
   "cell_type": "code",
   "execution_count": 273,
   "metadata": {},
   "outputs": [],
   "source": [
    "import pandas as pd"
   ]
  },
  {
   "cell_type": "code",
   "execution_count": 274,
   "metadata": {},
   "outputs": [],
   "source": [
    "df = pd.read_csv(\"./score.csv\", index_col=0)"
   ]
  },
  {
   "cell_type": "code",
   "execution_count": 275,
   "metadata": {},
   "outputs": [
    {
     "data": {
      "text/plain": [
       "2023-10-20T23:30:34.755742    1.060755e+09\n",
       "2023-10-21T00:38:13.160663    1.018913e+09\n",
       "2023-10-21T00:42:49.956543    1.028040e+09\n",
       "2023-10-21T00:50:08.428110    2.098736e+10\n",
       "2023-10-21T01:17:21.760157    1.065106e+09\n",
       "2023-10-21T01:21:32.438044    9.937730e+09\n",
       "2023-10-21T01:50:36.630387    1.285618e+09\n",
       "2023-10-21T01:54:26.281402    1.803236e+09\n",
       "2023-10-21T01:57:51.652721    1.146221e+09\n",
       "2023-10-21T02:01:48.867771    1.473296e+09\n",
       "2023-10-21T02:05:03.877950    1.045655e+09\n",
       "2023-10-21T02:14:35.367278    9.199008e+08\n",
       "2023-10-21T02:18:43.473352    1.034444e+09\n",
       "2023-10-21T02:20:40.484872    9.441489e+08\n",
       "2023-10-21T02:22:41.002817    9.200179e+08\n",
       "2023-10-21T10:31:06.980853    9.275023e+08\n",
       "2023-10-21T10:34:36.903757    9.636363e+08\n",
       "2023-10-21T10:36:26.601112    9.996360e+08\n",
       "2023-10-21T10:38:10.737221    9.961727e+08\n",
       "2023-10-21T10:40:09.883808    9.262074e+08\n",
       "2023-10-21T10:59:16.680439    9.209230e+08\n",
       "2023-10-21T11:01:53.521567    9.490585e+08\n",
       "2023-10-21T11:04:01.328806    9.107705e+08\n",
       "2023-10-21T11:06:37.147415    9.129942e+08\n",
       "2023-10-21T11:09:24.767237    9.035952e+08\n",
       "2023-10-21T11:12:29.737628    9.133394e+08\n",
       "2023-10-21T11:14:48.765113    9.094498e+08\n",
       "2023-10-21T11:33:17.839442    1.184722e+09\n",
       "2023-10-21T11:45:56.215101    3.501531e+09\n",
       "2023-10-21T11:48:29.697132    6.780131e+08\n",
       "2023-10-21T11:51:51.357325    6.788279e+08\n",
       "2023-10-21T11:54:56.600191    6.780131e+08\n",
       "2023-10-21T13:53:18.558109    7.698277e+08\n",
       "2023-10-21T14:46:49.321917    6.752454e+08\n",
       "2023-10-21T15:29:00.068713    6.779966e+08\n",
       "2023-10-21T15:59:28.617047    7.078131e+08\n",
       "2023-10-21T16:04:08.523130    7.102503e+08\n",
       "2023-10-21T16:27:26.583949    6.750545e+08\n",
       "Name: total, dtype: float64"
      ]
     },
     "execution_count": 275,
     "metadata": {},
     "output_type": "execute_result"
    }
   ],
   "source": [
    "df.loc[\"total\"]"
   ]
  },
  {
   "cell_type": "code",
   "execution_count": 276,
   "metadata": {},
   "outputs": [
    {
     "data": {
      "text/html": [
       "<div>\n",
       "<style scoped>\n",
       "    .dataframe tbody tr th:only-of-type {\n",
       "        vertical-align: middle;\n",
       "    }\n",
       "\n",
       "    .dataframe tbody tr th {\n",
       "        vertical-align: top;\n",
       "    }\n",
       "\n",
       "    .dataframe thead th {\n",
       "        text-align: right;\n",
       "    }\n",
       "</style>\n",
       "<table border=\"1\" class=\"dataframe\">\n",
       "  <thead>\n",
       "    <tr style=\"text-align: right;\">\n",
       "      <th></th>\n",
       "      <th>2023-10-21T16:04:08.523130</th>\n",
       "      <th>2023-10-21T16:27:26.583949</th>\n",
       "    </tr>\n",
       "    <tr>\n",
       "      <th>case</th>\n",
       "      <th></th>\n",
       "      <th></th>\n",
       "    </tr>\n",
       "  </thead>\n",
       "  <tbody>\n",
       "    <tr>\n",
       "      <th>0000.txt</th>\n",
       "      <td>1130551.0</td>\n",
       "      <td>1130551.0</td>\n",
       "    </tr>\n",
       "    <tr>\n",
       "      <th>0001.txt</th>\n",
       "      <td>468321.0</td>\n",
       "      <td>468321.0</td>\n",
       "    </tr>\n",
       "    <tr>\n",
       "      <th>0002.txt</th>\n",
       "      <td>117916.0</td>\n",
       "      <td>117916.0</td>\n",
       "    </tr>\n",
       "    <tr>\n",
       "      <th>0003.txt</th>\n",
       "      <td>259602.0</td>\n",
       "      <td>254922.0</td>\n",
       "    </tr>\n",
       "    <tr>\n",
       "      <th>0004.txt</th>\n",
       "      <td>4455748.0</td>\n",
       "      <td>4455748.0</td>\n",
       "    </tr>\n",
       "    <tr>\n",
       "      <th>...</th>\n",
       "      <td>...</td>\n",
       "      <td>...</td>\n",
       "    </tr>\n",
       "    <tr>\n",
       "      <th>0496.txt</th>\n",
       "      <td>371840.0</td>\n",
       "      <td>195953.0</td>\n",
       "    </tr>\n",
       "    <tr>\n",
       "      <th>0497.txt</th>\n",
       "      <td>663033.0</td>\n",
       "      <td>663033.0</td>\n",
       "    </tr>\n",
       "    <tr>\n",
       "      <th>0498.txt</th>\n",
       "      <td>1430075.0</td>\n",
       "      <td>1430075.0</td>\n",
       "    </tr>\n",
       "    <tr>\n",
       "      <th>0499.txt</th>\n",
       "      <td>2498736.0</td>\n",
       "      <td>2498736.0</td>\n",
       "    </tr>\n",
       "    <tr>\n",
       "      <th>total</th>\n",
       "      <td>710250347.0</td>\n",
       "      <td>675054485.0</td>\n",
       "    </tr>\n",
       "  </tbody>\n",
       "</table>\n",
       "<p>501 rows × 2 columns</p>\n",
       "</div>"
      ],
      "text/plain": [
       "          2023-10-21T16:04:08.523130  2023-10-21T16:27:26.583949\n",
       "case                                                            \n",
       "0000.txt                   1130551.0                   1130551.0\n",
       "0001.txt                    468321.0                    468321.0\n",
       "0002.txt                    117916.0                    117916.0\n",
       "0003.txt                    259602.0                    254922.0\n",
       "0004.txt                   4455748.0                   4455748.0\n",
       "...                              ...                         ...\n",
       "0496.txt                    371840.0                    195953.0\n",
       "0497.txt                    663033.0                    663033.0\n",
       "0498.txt                   1430075.0                   1430075.0\n",
       "0499.txt                   2498736.0                   2498736.0\n",
       "total                    710250347.0                 675054485.0\n",
       "\n",
       "[501 rows x 2 columns]"
      ]
     },
     "execution_count": 276,
     "metadata": {},
     "output_type": "execute_result"
    }
   ],
   "source": [
    "df.iloc[:, -2:]"
   ]
  },
  {
   "cell_type": "code",
   "execution_count": 277,
   "metadata": {},
   "outputs": [],
   "source": [
    "ratio = df.iloc[:,-1] / df.iloc[:,-2]"
   ]
  },
  {
   "cell_type": "code",
   "execution_count": 278,
   "metadata": {},
   "outputs": [
    {
     "data": {
      "text/plain": [
       "0.9504458362482152"
      ]
     },
     "execution_count": 278,
     "metadata": {},
     "output_type": "execute_result"
    }
   ],
   "source": [
    "ratio[\"total\"]"
   ]
  },
  {
   "cell_type": "code",
   "execution_count": 279,
   "metadata": {},
   "outputs": [
    {
     "data": {
      "text/plain": [
       "case\n",
       "0151.txt    1.093017\n",
       "0219.txt    1.095614\n",
       "0255.txt    1.770992\n",
       "0280.txt    2.213023\n",
       "0493.txt    1.001888\n",
       "dtype: float64"
      ]
     },
     "execution_count": 279,
     "metadata": {},
     "output_type": "execute_result"
    }
   ],
   "source": [
    "ratio[ratio>1]"
   ]
  },
  {
   "cell_type": "code",
   "execution_count": 280,
   "metadata": {},
   "outputs": [
    {
     "data": {
      "text/plain": [
       "case\n",
       "0280.txt    2.213023\n",
       "0255.txt    1.770992\n",
       "0219.txt    1.095614\n",
       "0151.txt    1.093017\n",
       "0493.txt    1.001888\n",
       "dtype: float64"
      ]
     },
     "execution_count": 280,
     "metadata": {},
     "output_type": "execute_result"
    }
   ],
   "source": [
    "ratio[ratio>1].iloc[ratio[ratio>1].argsort()[::-1]][:10]"
   ]
  },
  {
   "cell_type": "code",
   "execution_count": 283,
   "metadata": {},
   "outputs": [
    {
     "data": {
      "text/plain": [
       "case\n",
       "0432.txt    0.004799\n",
       "0206.txt    0.094237\n",
       "0260.txt    0.097950\n",
       "0383.txt    0.156788\n",
       "0399.txt    0.179322\n",
       "0306.txt    0.245873\n",
       "0330.txt    0.344796\n",
       "0191.txt    0.346921\n",
       "0258.txt    0.524199\n",
       "0496.txt    0.526982\n",
       "dtype: float64"
      ]
     },
     "execution_count": 283,
     "metadata": {},
     "output_type": "execute_result"
    }
   ],
   "source": [
    "ratio[ratio<1].iloc[ratio[ratio<1].argsort()][:10]"
   ]
  },
  {
   "cell_type": "code",
   "execution_count": null,
   "metadata": {},
   "outputs": [],
   "source": []
  }
 ],
 "metadata": {
  "kernelspec": {
   "display_name": "Python 3",
   "language": "python",
   "name": "python3"
  },
  "language_info": {
   "codemirror_mode": {
    "name": "ipython",
    "version": 3
   },
   "file_extension": ".py",
   "mimetype": "text/x-python",
   "name": "python",
   "nbconvert_exporter": "python",
   "pygments_lexer": "ipython3",
   "version": "3.10.13"
  }
 },
 "nbformat": 4,
 "nbformat_minor": 2
}
